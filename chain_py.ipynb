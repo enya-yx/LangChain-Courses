{
  "nbformat": 4,
  "nbformat_minor": 0,
  "metadata": {
    "colab": {
      "provenance": [],
      "authorship_tag": "ABX9TyN2dhpW3K4G4p0dK78PJWbH",
      "include_colab_link": true
    },
    "kernelspec": {
      "name": "python3",
      "display_name": "Python 3"
    },
    "language_info": {
      "name": "python"
    }
  },
  "cells": [
    {
      "cell_type": "markdown",
      "metadata": {
        "id": "view-in-github",
        "colab_type": "text"
      },
      "source": [
        "<a href=\"https://colab.research.google.com/github/enya-yx/LangChain-Courses/blob/main/chain_py.ipynb\" target=\"_parent\"><img src=\"https://colab.research.google.com/assets/colab-badge.svg\" alt=\"Open In Colab\"/></a>"
      ]
    },
    {
      "cell_type": "code",
      "source": [
        "!pip install \"langchain-google-genai\" \"langchain\" \"langchain-core\" \"langgraph-prebuilt\" \"google-generativeai\""
      ],
      "metadata": {
        "id": "sIdyIP6YPtKe"
      },
      "execution_count": null,
      "outputs": []
    },
    {
      "cell_type": "code",
      "source": [
        "import google.generativeai as genai\n",
        "import os\n",
        "from google.colab import userdata\n",
        "\n",
        "os.environ[\"GOOGLE_API_KEY\"] = userdata.get('google_api_key')\n",
        "# Configure the generative AI library with your API key\n",
        "genai.configure(api_key=os.environ[\"GOOGLE_API_KEY\"])\n"
      ],
      "metadata": {
        "id": "6gPZp3CQXQzM"
      },
      "execution_count": 2,
      "outputs": []
    },
    {
      "cell_type": "code",
      "source": [
        "from langchain_google_genai import ChatGoogleGenerativeAI\n",
        "from langchain.prompts import PromptTemplate, ChatPromptTemplate\n",
        "from langchain_core.output_parsers import StrOutputParser\n",
        "#from langchain.chains import LLMChain (will be deprecated)\n",
        "\n",
        "# Define llm\n",
        "llm = ChatGoogleGenerativeAI(\n",
        "    model=\"gemini-2.5-flash\",\n",
        "    temperature=0.1,\n",
        "    verbose=True\n",
        ")\n"
      ],
      "metadata": {
        "id": "UL4c9YZWO0X7"
      },
      "execution_count": 41,
      "outputs": []
    },
    {
      "cell_type": "code",
      "source": [
        "# PartI. Create a sequencial chain\n",
        "# Define the first prompt by template\n",
        "template_string =  \"Please provide a description for the {movie_name} movie with \\\n",
        "{max_number_of_words} number of words at most.\"\n",
        "prompt_template = PromptTemplate(\n",
        "    input_variables = [\"movie_name\", \"max_number_of_words\"],\n",
        "    template=template_string\n",
        ")\n",
        "\n",
        "# Define the first chain\n",
        "chain = prompt_template | llm | StrOutputParser()"
      ],
      "metadata": {
        "id": "dDB6p9anheVL"
      },
      "execution_count": 42,
      "outputs": []
    },
    {
      "cell_type": "code",
      "source": [
        "# Invoke the first chain\n",
        "movie_name = \"Inception\"\n",
        "chain.invoke(input = {\"movie_name\": movie_name, \"max_number_of_words\": 30})"
      ],
      "metadata": {
        "colab": {
          "base_uri": "https://localhost:8080/",
          "height": 53
        },
        "id": "-jxvIXt3u0oX",
        "outputId": "2aec6341-720f-451c-ef65-a64c10cfd49e"
      },
      "execution_count": 29,
      "outputs": [
        {
          "output_type": "execute_result",
          "data": {
            "text/plain": [
              "\"A thief enters people's dreams to steal secrets or plant ideas. Cobb leads a team through complex dream layers, blurring reality, to achieve the impossible: inception.\""
            ],
            "application/vnd.google.colaboratory.intrinsic+json": {
              "type": "string"
            }
          },
          "metadata": {},
          "execution_count": 29
        }
      ]
    },
    {
      "cell_type": "code",
      "source": [
        "# Define the second prompt and chain\n",
        "template_string_second = \"Please translate the {movie_description} into {language}.\"\n",
        "prompt_template_second = ChatPromptTemplate.from_template(\n",
        "    template_string_second\n",
        ")\n",
        "chain_second = prompt_template_second | llm | StrOutputParser()"
      ],
      "metadata": {
        "id": "fB6hODlI6-Ci"
      },
      "execution_count": 43,
      "outputs": []
    },
    {
      "cell_type": "code",
      "source": [
        "# Define a sequencial chain\n",
        "from langchain_core.runnables import RunnablePassthrough\n",
        "sequencial_chain = (\n",
        "    {\n",
        "        \"movie_description\": chain,\n",
        "        \"language\": RunnablePassthrough()\n",
        "    }\n",
        "    | chain_second\n",
        ")\n"
      ],
      "metadata": {
        "id": "8xv_fZ3lv7P5"
      },
      "execution_count": 44,
      "outputs": []
    },
    {
      "cell_type": "code",
      "source": [
        "# Invoke sequencial chain\n",
        "import langchain\n",
        "langchain.debug = False\n",
        "sequencial_chain.invoke(input = {\"movie_name\": movie_name, \"max_number_of_words\": 50, \"language\": \"Chinese\"})"
      ],
      "metadata": {
        "colab": {
          "base_uri": "https://localhost:8080/",
          "height": 71
        },
        "id": "dIq06O1B3gLF",
        "outputId": "5c745a43-0583-4c5d-f4bc-7633b11d83d8"
      },
      "execution_count": 47,
      "outputs": [
        {
          "output_type": "execute_result",
          "data": {
            "text/plain": [
              "'```json\\n{\\n  \"movie_name\": \"Inception\",\\n  \"translation\": \"柯布率盗梦团队，潜入梦境窃取秘密。最新任务“盗梦空间”却要植入而非窃取想法。危险重重，他需穿越潜意识层层，模糊现实，冒心智风险，只为归家。\",\\n  \"max_number_of_words\": 32,\\n  \"language\": \"Chinese\"\\n}\\n```'"
            ],
            "application/vnd.google.colaboratory.intrinsic+json": {
              "type": "string"
            }
          },
          "metadata": {},
          "execution_count": 47
        }
      ]
    },
    {
      "cell_type": "code",
      "source": [
        "# Part II, create a router chain\n",
        "# MultiPromptChain was deprecated for new versions, will use LangGraph to implement this part"
      ],
      "metadata": {
        "id": "ZHnY4LS_GJ0F"
      },
      "execution_count": null,
      "outputs": []
    }
  ]
}