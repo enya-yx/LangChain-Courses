{
  "nbformat": 4,
  "nbformat_minor": 0,
  "metadata": {
    "colab": {
      "provenance": [],
      "authorship_tag": "ABX9TyOTO/o5UFJJOrt3l+UIH6/P",
      "include_colab_link": true
    },
    "kernelspec": {
      "name": "python3",
      "display_name": "Python 3"
    },
    "language_info": {
      "name": "python"
    }
  },
  "cells": [
    {
      "cell_type": "markdown",
      "metadata": {
        "id": "view-in-github",
        "colab_type": "text"
      },
      "source": [
        "<a href=\"https://colab.research.google.com/github/enya-yx/LangChain-Courses/blob/main/prompt_template_py.ipynb\" target=\"_parent\"><img src=\"https://colab.research.google.com/assets/colab-badge.svg\" alt=\"Open In Colab\"/></a>"
      ]
    },
    {
      "cell_type": "code",
      "source": [
        "!pip install \"langchain-google-genai\" \"langchain\" \"langchain-core\" \"langgraph-prebuilt\" \"google-generativeai\""
      ],
      "metadata": {
        "id": "sIdyIP6YPtKe"
      },
      "execution_count": null,
      "outputs": []
    },
    {
      "cell_type": "code",
      "source": [
        "import google.generativeai as genai\n",
        "import os\n",
        "os.environ[\"GOOGLE_API_KEY\"] = \"\"\n",
        "\n",
        "# Configure the generative AI library with your API key\n",
        "genai.configure(api_key=os.environ[\"GOOGLE_API_KEY\"])\n",
        "\n",
        "# List all available models\n",
        "'''\n",
        "print(\"Available models and their capabilities:\")\n",
        "for m in genai.list_models():\n",
        "    if \"generateContent\" in m.supported_generation_methods:\n",
        "        print(f\"  - {m.name} (supports generateContent)\")\n",
        "    else:\n",
        "        print(f\"  - {m.name} (DOES NOT support generateContent)\")\n",
        "'''"
      ],
      "metadata": {
        "id": "6gPZp3CQXQzM"
      },
      "execution_count": null,
      "outputs": []
    },
    {
      "cell_type": "code",
      "source": [
        "from langchain_google_genai import ChatGoogleGenerativeAI\n",
        "from langchain_core.prompts import ChatPromptTemplate\n",
        "\n",
        "\n",
        "# Define prompt template\n",
        "template_string = \"\"\"Translate the text into a style {style}. text: ```{text}``` \"\"\"\n",
        "prompt_template = ChatPromptTemplate.from_template(template_string)\n",
        "#print(prompt_template)\n",
        "#print(prompt_template.messages)\n",
        "#print(prompt_template.messages[0].prompt)\n",
        "customer_style = \"\"\"American English in a calm and respectful tone.\"\"\"\n",
        "customer_email = \"\"\"抵抗职场不公平，性别地域和年龄歧视，恶意加班以及办公室斗争\"\"\"\n",
        "customer_messages = prompt_template.format_messages(style=customer_style, text=customer_email)\n",
        "#print(customer_messages)\n",
        "#print(type(customer_messages[0]))\n",
        "print(f\"customer message: {customer_messages[0]}\")\n",
        "\n",
        "# Define chat\n",
        "chat = ChatGoogleGenerativeAI(\n",
        "    model=\"gemini-2.5-flash\",\n",
        "    temperature=0.7\n",
        ")\n",
        "customer_response = chat.invoke(customer_messages)\n",
        "#print(customer_response)\n",
        "print(f\"response: {customer_response.content}\")"
      ],
      "metadata": {
        "colab": {
          "base_uri": "https://localhost:8080/"
        },
        "id": "UL4c9YZWO0X7",
        "outputId": "3ca2a309-48d8-4a65-d97f-47f8c8c6384b"
      },
      "execution_count": 3,
      "outputs": [
        {
          "output_type": "stream",
          "name": "stdout",
          "text": [
            "customer message: content='Translate the text into a style American English in a calm and respectful tone.. text: ```抵抗职场不公平，性别地域和年龄歧视，恶意加班以及办公室斗争``` ' additional_kwargs={} response_metadata={}\n",
            "response: Here are a few options, aiming for a calm and respectful tone in American English:\n",
            "\n",
            "**Option 1 (More direct):**\n",
            "\"Addressing workplace unfairness, including discrimination based on gender, origin, or age, exploitative overtime, and unproductive office politics.\"\n",
            "\n",
            "**Option 2 (Slightly more formal):**\n",
            "\"Working to prevent injustices in the workplace, such as discrimination based on gender, regional background, or age, excessive and unwarranted overtime, and detrimental internal conflicts.\"\n",
            "\n",
            "**Option 3 (Focus on standing up for):**\n",
            "\"Standing up against workplace inequities, specifically gender, regional, and age discrimination, unreasonable overtime demands, and unhealthy office dynamics.\"\n",
            "\n",
            "Choose the one that best fits the specific context you're using it in. All aim for the requested tone.\n"
          ]
        }
      ]
    }
  ]
}