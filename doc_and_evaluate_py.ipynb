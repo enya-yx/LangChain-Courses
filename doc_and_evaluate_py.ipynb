{
  "nbformat": 4,
  "nbformat_minor": 0,
  "metadata": {
    "colab": {
      "provenance": [],
      "authorship_tag": "ABX9TyN2lWKcqK+egpdqQiWWmSs0",
      "include_colab_link": true
    },
    "kernelspec": {
      "name": "python3",
      "display_name": "Python 3"
    },
    "language_info": {
      "name": "python"
    }
  },
  "cells": [
    {
      "cell_type": "markdown",
      "metadata": {
        "id": "view-in-github",
        "colab_type": "text"
      },
      "source": [
        "<a href=\"https://colab.research.google.com/github/enya-yx/LangChain-Courses/blob/main/doc_and_evaluate_py.ipynb\" target=\"_parent\"><img src=\"https://colab.research.google.com/assets/colab-badge.svg\" alt=\"Open In Colab\"/></a>"
      ]
    },
    {
      "cell_type": "code",
      "source": [
        "!pip install \"langchain-google-genai\" \"langchain\" \"langchain-core\" \"langgraph-prebuilt\" \"google-generativeai\" \"langchain_community\" \"docarray\""
      ],
      "metadata": {
        "id": "sIdyIP6YPtKe"
      },
      "execution_count": null,
      "outputs": []
    },
    {
      "cell_type": "code",
      "source": [
        "import google.generativeai as genai\n",
        "import os\n",
        "from google.colab import userdata\n",
        "\n",
        "os.environ[\"GOOGLE_API_KEY\"] = userdata.get('google_api_key')\n",
        "# Configure the generative AI library with your API key\n",
        "genai.configure(api_key=os.environ[\"GOOGLE_API_KEY\"])\n"
      ],
      "metadata": {
        "id": "6gPZp3CQXQzM"
      },
      "execution_count": 2,
      "outputs": []
    },
    {
      "cell_type": "code",
      "source": [
        "from langchain_google_genai import ChatGoogleGenerativeAI\n",
        "from langchain.prompts import PromptTemplate, ChatPromptTemplate\n",
        "from langchain_core.output_parsers import StrOutputParser\n",
        "\n",
        "# Define llm\n",
        "llm = ChatGoogleGenerativeAI(\n",
        "    model=\"gemini-2.5-flash\",\n",
        "    temperature=0.1,\n",
        "    verbose=True\n",
        ")\n"
      ],
      "metadata": {
        "id": "UL4c9YZWO0X7"
      },
      "execution_count": 3,
      "outputs": []
    },
    {
      "cell_type": "code",
      "source": [
        "# Load the doc and save in memory as db with embedding for future query\n",
        "from langchain_community.document_loaders import WebBaseLoader\n",
        "from langchain.indexes import VectorstoreIndexCreator\n",
        "from langchain.vectorstores import DocArrayInMemorySearch\n",
        "from langchain_google_genai import GoogleGenerativeAIEmbeddings\n",
        "\n",
        "loader = WebBaseLoader(\"https://medium.com/@natazwa/best-and-worst-of-keigo-higashino-a811bcd89b04\")\n",
        "docs = loader.load()\n",
        "embeddings = GoogleGenerativeAIEmbeddings(model=\"models/text-embedding-004\")\n",
        "db = DocArrayInMemorySearch.from_documents(docs, embeddings)\n",
        "\n"
      ],
      "metadata": {
        "id": "5UGPVg_p-7fn"
      },
      "execution_count": null,
      "outputs": []
    },
    {
      "cell_type": "code",
      "source": [
        "# Query by 'db' to create related docs used to answer questions\n",
        "from langchain.chains import RetrievalQA\n",
        "from IPython.display import display, Markdown\n",
        "\n",
        "query = \"Please list famous novels written by Keigo Higashino and provide short introduction.\"\n",
        "qres = db.similarity_search(query)\n",
        "#print(qres[0].page_content)\n",
        "qdocs = \".\".join(r.page_content for r in qres)\n",
        "question = \"Please list the best 3 novels written by Keigo Higashino in a table in markdown\\\n",
        " with simple short description for each of them\"\n",
        "res_from_docs = llm.call_as_llm(f'{qdocs} Question: {question}')\n",
        "display(Markdown(res_from_docs))\n"
      ],
      "metadata": {
        "id": "dDB6p9anheVL",
        "colab": {
          "base_uri": "https://localhost:8080/",
          "height": 208
        },
        "outputId": "0d36dd9a-2569-4275-92c9-c5486a8d620e"
      },
      "execution_count": 6,
      "outputs": [
        {
          "output_type": "display_data",
          "data": {
            "text/plain": [
              "<IPython.core.display.Markdown object>"
            ],
            "text/markdown": "Here are the top 3 Keigo Higashino novels according to the provided ranking:\n\n| Rank | Title                  | Description                                                                                             |\n|------|------------------------|---------------------------------------------------------------------------------------------------------|\n| 1    | Salvation of A Saint   | Features an ingenious murder method where police struggle to find evidence despite a vague idea of the culprit. |\n| 2    | Devotion of Suspect X  | The murderer and motive are revealed early, but the mystery lies in the ingenious disposal method and a shocking plot twist. |\n| 3    | Masquerade Hotel       | A police officer goes undercover as hotel staff to prevent a murder, knowing where it will happen but not who the suspect or target is. |"
          },
          "metadata": {}
        }
      ]
    },
    {
      "cell_type": "code",
      "source": [
        "# Define retriever by the 'db' to answer the question\n",
        "retriever = db.as_retriever()\n",
        "qa_chain = RetrievalQA.from_chain_type(\n",
        "    llm=llm,\n",
        "    chain_type=\"stuff\",\n",
        "    retriever=retriever,\n",
        "    verbose=True\n",
        ")\n",
        "res_from_retriver = qa_chain.run(question)\n",
        "display(Markdown(res_from_retriver))"
      ],
      "metadata": {
        "id": "fB6hODlI6-Ci",
        "colab": {
          "base_uri": "https://localhost:8080/",
          "height": 318
        },
        "outputId": "28a9c304-7a33-4f36-f57a-0a963ab88969"
      },
      "execution_count": 7,
      "outputs": [
        {
          "output_type": "stream",
          "name": "stderr",
          "text": [
            "/tmp/ipython-input-503812308.py:9: LangChainDeprecationWarning: The method `Chain.run` was deprecated in langchain 0.1.0 and will be removed in 1.0. Use :meth:`~invoke` instead.\n",
            "  res_from_retriver = qa_chain.run(question)\n"
          ]
        },
        {
          "output_type": "stream",
          "name": "stdout",
          "text": [
            "\n",
            "\n",
            "\u001b[1m> Entering new RetrievalQA chain...\u001b[0m\n",
            "\n",
            "\u001b[1m> Finished chain.\u001b[0m\n"
          ]
        },
        {
          "output_type": "display_data",
          "data": {
            "text/plain": [
              "<IPython.core.display.Markdown object>"
            ],
            "text/markdown": "Here are the top 3 novels by Keigo Higashino, according to the provided ranking:\n\n| Rank | Title | Description |\n|---|---|---|\n| 1 | Salvation of A Saint | Features an incredibly clever and shocking murder method, making evidence hard to find. |\n| 2 | Devotion of Suspect X | Reveals the murderer early, but the mystery is how the body was disposed of undetected, with a mind-blowing twist. |\n| 3 | Masquerade Hotel | A police officer goes undercover in a hotel to investigate a murder where the location is known, but not the suspect or target. |"
          },
          "metadata": {}
        }
      ]
    },
    {
      "cell_type": "code",
      "source": [
        "'''\n",
        "# Create index by Index Creator\n",
        "index = VectorstoreIndexCreator(\n",
        "    vectorstore_cls=DocArrayInMemorySearch,\n",
        "    embedding=GoogleGenerativeAIEmbeddings(model=\"models/text-embedding-004\")\n",
        ").from_loaders([loader])\n",
        "'''\n"
      ],
      "metadata": {
        "id": "0nsy4MXJCrs_"
      },
      "execution_count": null,
      "outputs": []
    },
    {
      "cell_type": "code",
      "source": [
        "# Create examples to test llm\n",
        "from langchain.evaluation.qa import QAGenerateChain\n",
        "example_gen_chain = QAGenerateChain.from_llm(llm)\n",
        "auto_examples = example_gen_chain.apply_and_parse(\n",
        "    [{\"doc\": doc} for doc in docs]\n",
        ")\n",
        "\n",
        "examples = [\n",
        "    {\n",
        "        \"query\": \"What's Keigo Higashino's occupation?\",\n",
        "        \"answer\": \"Author\"\n",
        "    },\n",
        "    {\n",
        "        \"query\": \"Which type of his novel is famous for?\",\n",
        "        \"answer\": \"Mystery\"\n",
        "    },\n",
        "    {\n",
        "        \"query\": \"Which one of his novels is ranked at fifth?\",\n",
        "        \"answer\": \"The Newcomer\"\n",
        "    }\n",
        "]\n",
        "examples.append(auto_examples[0]['qa_pairs'])\n",
        "qa_chain.run(examples[-1])\n",
        "#print(examples[-1])\n"
      ],
      "metadata": {
        "colab": {
          "base_uri": "https://localhost:8080/"
        },
        "id": "8v_hu1IkEMvz",
        "outputId": "ce5fb09e-8617-4353-d472-a4791853926b"
      },
      "execution_count": 36,
      "outputs": [
        {
          "output_type": "stream",
          "name": "stderr",
          "text": [
            "/tmp/ipython-input-830198495.py:3: UserWarning: The apply_and_parse method is deprecated, instead pass an output parser directly to LLMChain.\n",
            "  auto_examples = example_gen_chain.apply_and_parse(\n"
          ]
        },
        {
          "output_type": "stream",
          "name": "stdout",
          "text": [
            "\n",
            "\n",
            "\u001b[1m> Entering new RetrievalQA chain...\u001b[0m\n",
            "\n",
            "\u001b[1m> Finished chain.\u001b[0m\n",
            "{'query': \"According to natazwa's ranking, which Keigo Higashino novel received the lowest rating, and what specific criticisms did the reviewer have regarding its genre and execution?\", 'answer': 'The lowest-ranked novel on natazwa\\'s list is \"Keajaiban Toko Kelontong Namiya,\" which received a rating of 2.5/5. The reviewer criticized it for being in the fantasy genre, a departure from Keigo Higashino\\'s typical murder mysteries, and for its poor execution where the author \"tells instead of shows,\" making the narrative feel rushed. Despite an intriguing premise and the author\\'s ability to connect characters, natazwa found the novel boring and disappointing.'}\n"
          ]
        }
      ]
    },
    {
      "cell_type": "code",
      "source": [
        "# Evaluate all predictions for examples\n",
        "from langchain.evaluation.qa import QAEvalChain\n",
        "predictions = qa_chain.apply(examples)\n",
        "\n",
        "eval_chain = QAEvalChain.from_llm(llm)\n",
        "graded_outputs = eval_chain.evaluate(examples, predictions)\n",
        "\n",
        "for i in range(len(examples)):\n",
        "    print(f'Example {i}:')\n",
        "    print('Question: '+ examples[i]['query'])\n",
        "    print('Real Answer: '+ examples[i]['answer'])\n",
        "    print('Predicted Answer: '+ predictions[i]['result'])\n",
        "    print('Predicted Grade: ' + graded_outputs[i]['results'])\n",
        "    print()\n"
      ],
      "metadata": {
        "colab": {
          "base_uri": "https://localhost:8080/"
        },
        "id": "5jHxcUHgIr6b",
        "outputId": "f2748f30-0274-4f93-b991-24f3eaab336d"
      },
      "execution_count": 42,
      "outputs": [
        {
          "output_type": "stream",
          "name": "stdout",
          "text": [
            "\n",
            "\n",
            "\u001b[1m> Entering new RetrievalQA chain...\u001b[0m\n",
            "\n",
            "\u001b[1m> Finished chain.\u001b[0m\n",
            "\n",
            "\n",
            "\u001b[1m> Entering new RetrievalQA chain...\u001b[0m\n",
            "\n",
            "\u001b[1m> Finished chain.\u001b[0m\n",
            "\n",
            "\n",
            "\u001b[1m> Entering new RetrievalQA chain...\u001b[0m\n",
            "\n",
            "\u001b[1m> Finished chain.\u001b[0m\n",
            "\n",
            "\n",
            "\u001b[1m> Entering new RetrievalQA chain...\u001b[0m\n",
            "\n",
            "\u001b[1m> Finished chain.\u001b[0m\n",
            "Example 0:\n",
            "Question: What's Keigo Higashino's occupation?\n",
            "Real Answer: Author\n",
            "Predicted Answer: Keigo Higashino is an acclaimed Japanese author, renowned for his mystery novels.\n",
            "Predicted Grade: CORRECT\n",
            "\n",
            "Example 1:\n",
            "Question: Which type of his novel is famous for?\n",
            "Real Answer: Mystery\n",
            "Predicted Answer: Keigo Higashino is famous for his **mystery novels**, particularly **murder mysteries**.\n",
            "Predicted Grade: GRADE: CORRECT\n",
            "\n",
            "Example 2:\n",
            "Question: Which one of his novels is ranked at fifth?\n",
            "Real Answer: The Newcomer\n",
            "Predicted Answer: The novel ranked at fifth is **The Newcomer**.\n",
            "Predicted Grade: GRADE: CORRECT\n",
            "\n",
            "Example 3:\n",
            "Question: According to natazwa's ranking, which Keigo Higashino novel received the lowest rating, and what specific criticisms did the reviewer have regarding its genre and execution?\n",
            "Real Answer: The lowest-ranked novel on natazwa's list is \"Keajaiban Toko Kelontong Namiya,\" which received a rating of 2.5/5. The reviewer criticized it for being in the fantasy genre, a departure from Keigo Higashino's typical murder mysteries, and for its poor execution where the author \"tells instead of shows,\" making the narrative feel rushed. Despite an intriguing premise and the author's ability to connect characters, natazwa found the novel boring and disappointing.\n",
            "Predicted Answer: According to natazwa's ranking, the Keigo Higashino novel that received the lowest rating is **Keajaiban Toko Kelontong Namiya**, with a rating of 2.5/5.\n",
            "\n",
            "The reviewer's specific criticisms regarding its genre and execution were:\n",
            "*   **Genre:** It deviates from Higashino's typical murder mysteries, falling into the **fantasy genre**.\n",
            "*   **Execution:** The reviewer found that \"the execution falls short,\" stating that Higashino \"tells instead of shows,\" which made it seem rushed. They also found the writing style didn't work for this novel, making it \"boring and disappointing\" and tough to finish.\n",
            "Predicted Grade: GRADE: CORRECT\n",
            "\n"
          ]
        }
      ]
    }
  ]
}