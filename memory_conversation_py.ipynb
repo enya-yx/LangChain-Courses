{
  "nbformat": 4,
  "nbformat_minor": 0,
  "metadata": {
    "colab": {
      "provenance": [],
      "authorship_tag": "ABX9TyM3eZwuYrF4Q4F2sm3WgunG",
      "include_colab_link": true
    },
    "kernelspec": {
      "name": "python3",
      "display_name": "Python 3"
    },
    "language_info": {
      "name": "python"
    }
  },
  "cells": [
    {
      "cell_type": "markdown",
      "metadata": {
        "id": "view-in-github",
        "colab_type": "text"
      },
      "source": [
        "<a href=\"https://colab.research.google.com/github/enya-yx/LangChain-Courses/blob/main/memory_conversation_py.ipynb\" target=\"_parent\"><img src=\"https://colab.research.google.com/assets/colab-badge.svg\" alt=\"Open In Colab\"/></a>"
      ]
    },
    {
      "cell_type": "code",
      "source": [
        "!pip install \"langchain-google-genai\" \"langchain\" \"langchain-core\" \"langgraph-prebuilt\" \"google-generativeai\""
      ],
      "metadata": {
        "id": "sIdyIP6YPtKe"
      },
      "execution_count": null,
      "outputs": []
    },
    {
      "cell_type": "code",
      "source": [
        "import google.generativeai as genai\n",
        "import os\n",
        "os.environ[\"GOOGLE_API_KEY\"] = \"\"\n",
        "\n",
        "# Configure the generative AI library with your API key\n",
        "genai.configure(api_key=os.environ[\"GOOGLE_API_KEY\"])\n"
      ],
      "metadata": {
        "id": "6gPZp3CQXQzM"
      },
      "execution_count": null,
      "outputs": []
    },
    {
      "cell_type": "code",
      "source": [
        "from langchain_google_genai import ChatGoogleGenerativeAI\n",
        "from langchain.memory import ConversationTokenBufferMemory\n",
        "from langchain.chains import ConversationChain\n",
        "\n",
        "# Define llm\n",
        "llm = ChatGoogleGenerativeAI(\n",
        "    model=\"gemini-2.5-flash\",\n",
        "    temperature=0.0\n",
        ")\n",
        "\n",
        "# Define memory with max token\n",
        "memory = ConversationTokenBufferMemory(llm=llm, max_token_limit=50)\n",
        "memory.save_context({\"input\": \"Hi, I'm Yx. I'm at Shanghai\"}, {\"output\": \"Hi, Yx, it's nice to meet you.\"})\n",
        "memory.load_memory_variables({})"
      ],
      "metadata": {
        "colab": {
          "base_uri": "https://localhost:8080/"
        },
        "id": "UL4c9YZWO0X7",
        "outputId": "bdf33a35-1a16-4bf8-d031-1370cc280051"
      },
      "execution_count": 13,
      "outputs": [
        {
          "output_type": "execute_result",
          "data": {
            "text/plain": [
              "{'history': \"Human: Hi, I'm Yx. I'm at Shanghai\\nAI: Hi, Yx, it's nice to meet you.\"}"
            ]
          },
          "metadata": {},
          "execution_count": 13
        }
      ]
    },
    {
      "cell_type": "code",
      "source": [
        "# Define conversation with memory\n",
        "conversation = ConversationChain(\n",
        "    llm = llm,\n",
        "    memory = memory,\n",
        "    verbose = True\n",
        ")\n",
        "conversation.predict(input=\"What's the most famous building in my city?\")"
      ],
      "metadata": {
        "colab": {
          "base_uri": "https://localhost:8080/",
          "height": 395
        },
        "id": "dDB6p9anheVL",
        "outputId": "8bce5dff-7f53-4c36-f18b-997d5a88866f"
      },
      "execution_count": 11,
      "outputs": [
        {
          "output_type": "stream",
          "name": "stdout",
          "text": [
            "\n",
            "\n",
            "\u001b[1m> Entering new ConversationChain chain...\u001b[0m\n",
            "Prompt after formatting:\n",
            "\u001b[32;1m\u001b[1;3mThe following is a friendly conversation between a human and an AI. The AI is talkative and provides lots of specific details from its context. If the AI does not know the answer to a question, it truthfully says it does not know.\n",
            "\n",
            "Current conversation:\n",
            "Human: Hi, I'm Yx. I'm at Shanghai\n",
            "AI: Hi, Yx, it's nice to meet you.\n",
            "Human: What's the most famous building in my city?\n",
            "AI:\u001b[0m\n",
            "\n",
            "\u001b[1m> Finished chain.\u001b[0m\n"
          ]
        },
        {
          "output_type": "execute_result",
          "data": {
            "text/plain": [
              "'Oh, Yx, that\\'s a fantastic question! Shanghai is absolutely brimming with incredible architecture, but if I had to pick the *most* famous building, it would undoubtedly be the **Oriental Pearl TV Tower** (东方明珠广播电视塔).\\n\\nIt\\'s truly an iconic landmark that defines the city\\'s skyline, especially when you look across the Huangpu River from the Bund. Here are some fun facts about it:\\n\\n*   **Height:** It stands at a staggering 468 meters (about 1,535 feet) tall! When it was completed in 1994, it was the tallest structure in China and the third tallest TV tower in the world. While other skyscrapers have surpassed it in height in Shanghai, its unique design keeps it instantly recognizable.\\n*   **Design:** Its most distinctive feature is its eleven spheres, with the two largest ones, often called \"pearls,\" being the most prominent. The design is said to be inspired by a poem about \"pearls dropping onto a jade plate.\" It\\'s incredibly futuristic and beautiful, especially when lit up at night.\\n*   **Purpose:** Beyond being a TV and radio transmission tower, it\\'s a massive tourist attraction! It boasts several observation decks, offering breathtaking panoramic views of Shanghai. The highest one is in the top sphere at 350 meters (the \"Space Module\"), and there\\'s a popular glass-bottomed deck at 263 meters that gives you a thrilling view straight down!\\n*   **Dining:** It also features a revolving restaurant at 263 meters, which is a fantastic experience to enjoy a meal while the city slowly rotates around you.\\n*   **Museum:** In its pedestal, you\\'ll find the Shanghai Municipal History Museum, which is a fascinating place to learn about the city\\'s past, from its ancient origins to its rapid modernization.\\n\\nWhile the Oriental Pearl is arguably the most famous for its unique look and long-standing status, Shanghai also has other incredibly famous buildings like the **Shanghai Tower** (the second tallest building in the world!), the **Shanghai World Financial Center** (nicknamed \"the bottle opener\"), and the **Jin Mao Tower**. But the Oriental Pearl truly holds a special place as a symbol of modern Shanghai\\'s rise.\\n\\nHave you had a chance to see it up close or even go up to one of its observation decks, Yx?'"
            ],
            "application/vnd.google.colaboratory.intrinsic+json": {
              "type": "string"
            }
          },
          "metadata": {},
          "execution_count": 11
        }
      ]
    },
    {
      "cell_type": "code",
      "source": [
        "# Define a summary memory\n",
        "from langchain.memory import ConversationSummaryBufferMemory\n",
        "\n",
        "summary_memory = ConversationSummaryBufferMemory(llm=llm, max_token_limit = 100)\n",
        "summary_memory.save_context({\"input\": \"Hi, I'm Yx. I like to play board games.\"}, {\"output\": \"Hi, Yx, it's nice to meet you.\"})\n",
        "schedule = \"It's Saturday， and it's going to be a busy day. From 10:00 am to 12:30 pm, you will have some LangChain courses. During lunch time, \\\n",
        "you will watch the TV show '现在就出发'. In the afternoon, from 3:00 pm to 5:00 pm, you will play some instruments. \\\n",
        "After that you will go out to do some excersice. In the evening from 7:00 pm will watch the werewolves kill live show from TikTok.\"\n",
        "summary_memory.save_context({\"input\": \"what is my schedule today?\"}, {\"output\": f'{schedule}'})\n",
        "\n",
        "conversation = ConversationChain(\n",
        "    llm = llm,\n",
        "    memory = summary_memory,\n",
        "    verbose = True\n",
        ")\n",
        "conversation.predict(input=\"When will be the most fun today for me?\")"
      ],
      "metadata": {
        "colab": {
          "base_uri": "https://localhost:8080/",
          "height": 377
        },
        "id": "vroWRrAjkKOH",
        "outputId": "2bbd2ca0-4919-483f-9fc1-10f46e532a0f"
      },
      "execution_count": 20,
      "outputs": [
        {
          "output_type": "stream",
          "name": "stdout",
          "text": [
            "\n",
            "\n",
            "\u001b[1m> Entering new ConversationChain chain...\u001b[0m\n",
            "Prompt after formatting:\n",
            "\u001b[32;1m\u001b[1;3mThe following is a friendly conversation between a human and an AI. The AI is talkative and provides lots of specific details from its context. If the AI does not know the answer to a question, it truthfully says it does not know.\n",
            "\n",
            "Current conversation:\n",
            "System: The human, Yx, introduces themselves and mentions liking board games. Yx then asks for their schedule today. The AI provides a detailed Saturday schedule for Yx, which includes LangChain courses from 10:00 am to 12:30 pm, watching '现在就出发' during lunch, playing instruments from 3:00 pm to 5:00 pm, exercising afterwards, and watching a TikTok 'werewolves kill live show' from 7:00 pm.\n",
            "Human: When will be the most fun today for me?\n",
            "AI:\u001b[0m\n",
            "\n",
            "\u001b[1m> Finished chain.\u001b[0m\n"
          ]
        },
        {
          "output_type": "execute_result",
          "data": {
            "text/plain": [
              "'Oh, that\\'s a fantastic question, Yx! \"Fun\" can be so subjective, but looking at your schedule, I\\'d say you have a couple of really strong contenders for the most fun part of your day!\\n\\nBased on the activities you have planned, I\\'d put my money on the **TikTok \\'werewolves kill live show\\' starting at 7:00 pm** as potentially being the most fun. Here\\'s why:\\n\\n*   **Live Entertainment:** There\\'s something inherently exciting about a live show, even if it\\'s on TikTok! The immediacy, the interaction (if there is any), and the unfolding drama of a \"werewolves kill\" scenario can be incredibly engaging and thrilling. It sounds like a specific type of entertainment that you\\'d actively choose to unwind with.\\n*   **Pure Leisure:** Unlike your LangChain courses (which are educational and important!) or even exercising (which is good for you but sometimes feels like work), watching a live show like this is pure, unadulterated leisure and entertainment. It\\'s designed to be captivating and enjoyable.\\n\\nHowever, I also think your **instrument playing session from 3:00 pm to 5:00 pm** could be incredibly fun too! If you\\'re passionate about music and enjoy creating it, that two-hour block could be a deeply satisfying and joyful experience. There\\'s a different kind of fun in creative expression and mastering a skill.\\n\\nSo, to sum it up, if you\\'re looking for pure, thrilling entertainment, the **TikTok \\'werewolves kill live show\\' at 7:00 pm** is probably your best bet for the \"most fun.\" But if you find deep satisfaction and joy in creating, then your **instrument playing from 3:00 pm to 5:00 pm** could easily take the top spot!\\n\\nWhich one are you looking forward to more, Yx?'"
            ],
            "application/vnd.google.colaboratory.intrinsic+json": {
              "type": "string"
            }
          },
          "metadata": {},
          "execution_count": 20
        }
      ]
    }
  ]
}